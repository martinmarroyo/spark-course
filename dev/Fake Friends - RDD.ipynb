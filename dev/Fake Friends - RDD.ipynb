{
 "cells": [
  {
   "cell_type": "code",
   "execution_count": 1,
   "id": "9619dd93",
   "metadata": {},
   "outputs": [],
   "source": [
    "from pyspark import SparkContext"
   ]
  },
  {
   "cell_type": "code",
   "execution_count": 2,
   "id": "d89de9f6",
   "metadata": {},
   "outputs": [],
   "source": [
    "sc = SparkContext(appName=\"FakeFriends\")"
   ]
  },
  {
   "cell_type": "code",
   "execution_count": 3,
   "id": "5d85b2ce",
   "metadata": {},
   "outputs": [],
   "source": [
    "def parse_line(line):\n",
    "    fields = line.split(\",\")\n",
    "    age = int(fields[2])\n",
    "    num_friends = int(fields[3])\n",
    "    return (age, num_friends)"
   ]
  },
  {
   "cell_type": "code",
   "execution_count": 4,
   "id": "256e593c",
   "metadata": {},
   "outputs": [],
   "source": [
    "lines = sc.textFile(\"file:///home/jovyan/data/fakefriends.csv\")\n",
    "rdd = lines.map(parse_line)"
   ]
  },
  {
   "cell_type": "code",
   "execution_count": 22,
   "id": "cc112778",
   "metadata": {},
   "outputs": [],
   "source": [
    "# Get the sum of friends and count of entries by age\n",
    "# Sort the results by sum of friends from greatest to least\n",
    "totals_by_age = rdd.mapValues(lambda x: (x, 1)) \\\n",
    "            .reduceByKey(lambda x, y: (x[0] + y[0], x[1] + y[1])) \\\n",
    "            .sortBy(lambda x: x[1][0], ascending=False)"
   ]
  },
  {
   "cell_type": "code",
   "execution_count": 23,
   "id": "e65bc37c",
   "metadata": {},
   "outputs": [
    {
     "name": "stdout",
     "output_type": "stream",
     "text": [
      "age\tcount\ttotal_friends\n",
      "40\t17\t4264\n",
      "26\t17\t4115\n",
      "45\t13\t4024\n",
      "33\t12\t3904\n",
      "55\t13\t3842\n",
      "52\t11\t3747\n",
      "54\t13\t3615\n",
      "67\t16\t3434\n",
      "44\t12\t3386\n",
      "64\t12\t3376\n"
     ]
    }
   ],
   "source": [
    "print(\"age\\tcount\\ttotal_friends\")\n",
    "for rec in totals_by_age.take(10):\n",
    "    print(f\"{rec[0]}\\t{rec[1][1]}\\t{rec[1][0]}\")"
   ]
  },
  {
   "cell_type": "code",
   "execution_count": null,
   "id": "a98c245d",
   "metadata": {},
   "outputs": [],
   "source": []
  }
 ],
 "metadata": {
  "kernelspec": {
   "display_name": "Python 3 (ipykernel)",
   "language": "python",
   "name": "python3"
  },
  "language_info": {
   "codemirror_mode": {
    "name": "ipython",
    "version": 3
   },
   "file_extension": ".py",
   "mimetype": "text/x-python",
   "name": "python",
   "nbconvert_exporter": "python",
   "pygments_lexer": "ipython3",
   "version": "3.10.5"
  }
 },
 "nbformat": 4,
 "nbformat_minor": 5
}
