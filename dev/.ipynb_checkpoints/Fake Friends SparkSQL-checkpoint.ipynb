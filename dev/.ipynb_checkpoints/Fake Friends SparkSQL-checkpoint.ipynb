{
 "cells": [
  {
   "cell_type": "code",
   "execution_count": 1,
   "id": "7c4d57a9",
   "metadata": {},
   "outputs": [],
   "source": [
    "from pyspark.sql import SparkSession\n",
    "from pyspark.sql.types import (\n",
    "    StructType,\n",
    "    StructField,\n",
    "    StringType,\n",
    "    IntegerType\n",
    ")"
   ]
  },
  {
   "cell_type": "code",
   "execution_count": 2,
   "id": "59938780",
   "metadata": {},
   "outputs": [],
   "source": [
    "spark = SparkSession.builder.appName(\"FakeFriends\").getOrCreate()"
   ]
  },
  {
   "cell_type": "code",
   "execution_count": 3,
   "id": "357fe990",
   "metadata": {},
   "outputs": [],
   "source": [
    "schema = StructType([\n",
    "    StructField(\"id\", IntegerType(), False),\n",
    "    StructField(\"name\", StringType(), False),\n",
    "    StructField(\"age\", IntegerType(), False),\n",
    "    StructField(\"friends\", IntegerType(), False)\n",
    "])"
   ]
  },
  {
   "cell_type": "code",
   "execution_count": 17,
   "id": "5d078ab4",
   "metadata": {},
   "outputs": [],
   "source": [
    "df = spark \\\n",
    "    .read \\\n",
    "    .csv(\"file:///home/jovyan/data/fakefriends.csv\", schema=schema)"
   ]
  },
  {
   "cell_type": "code",
   "execution_count": 25,
   "id": "79b10b67",
   "metadata": {},
   "outputs": [],
   "source": [
    "df.createOrReplaceTempView(\"fakefriends\")"
   ]
  },
  {
   "cell_type": "code",
   "execution_count": 28,
   "id": "058a53ad",
   "metadata": {},
   "outputs": [
    {
     "name": "stdout",
     "output_type": "stream",
     "text": [
      "+---+-------------+-----+\n",
      "|age|total_friends|count|\n",
      "+---+-------------+-----+\n",
      "| 40|         4264|   17|\n",
      "| 26|         4115|   17|\n",
      "| 45|         4024|   13|\n",
      "| 33|         3904|   12|\n",
      "| 55|         3842|   13|\n",
      "| 52|         3747|   11|\n",
      "| 54|         3615|   13|\n",
      "| 67|         3434|   16|\n",
      "| 44|         3386|   12|\n",
      "| 64|         3376|   12|\n",
      "+---+-------------+-----+\n",
      "only showing top 10 rows\n",
      "\n"
     ]
    }
   ],
   "source": [
    "friends_by_agegroup = spark.sql(\"\"\"\n",
    "    SELECT \n",
    "        age\n",
    "        , SUM(friends) AS total_friends\n",
    "        , COUNT(age) AS count\n",
    "    FROM \n",
    "        fakefriends\n",
    "    GROUP BY \n",
    "        age\n",
    "    ORDER BY \n",
    "        total_friends DESC\n",
    "\"\"\")\n",
    "friends_by_agegroup.show(10)"
   ]
  },
  {
   "cell_type": "code",
   "execution_count": null,
   "id": "482f74b5",
   "metadata": {},
   "outputs": [],
   "source": []
  }
 ],
 "metadata": {
  "kernelspec": {
   "display_name": "Python 3 (ipykernel)",
   "language": "python",
   "name": "python3"
  },
  "language_info": {
   "codemirror_mode": {
    "name": "ipython",
    "version": 3
   },
   "file_extension": ".py",
   "mimetype": "text/x-python",
   "name": "python",
   "nbconvert_exporter": "python",
   "pygments_lexer": "ipython3",
   "version": "3.10.5"
  }
 },
 "nbformat": 4,
 "nbformat_minor": 5
}
