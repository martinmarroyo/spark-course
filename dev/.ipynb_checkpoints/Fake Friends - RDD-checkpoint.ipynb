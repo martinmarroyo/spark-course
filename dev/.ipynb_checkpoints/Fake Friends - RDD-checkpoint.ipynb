{
 "cells": [
  {
   "cell_type": "code",
   "execution_count": 1,
   "id": "a7801ea1",
   "metadata": {},
   "outputs": [],
   "source": [
    "from pyspark import SparkContext"
   ]
  },
  {
   "cell_type": "code",
   "execution_count": 2,
   "id": "c5550bf6",
   "metadata": {},
   "outputs": [],
   "source": [
    "sc = SparkContext(appName=\"FakeFriends\")"
   ]
  },
  {
   "cell_type": "code",
   "execution_count": 3,
   "id": "6768d6e1",
   "metadata": {},
   "outputs": [],
   "source": [
    "def parse_line(line):\n",
    "    fields = line.split(\",\")\n",
    "    age = int(fields[2])\n",
    "    num_friends = int(fields[3])\n",
    "    return (age, num_friends)"
   ]
  },
  {
   "cell_type": "code",
   "execution_count": 4,
   "id": "6a799dfc",
   "metadata": {},
   "outputs": [],
   "source": [
    "lines = sc.textFile(\"file:///home/jovyan/data/fakefriends.csv\")\n",
    "rdd = lines.map(parse_line)"
   ]
  },
  {
   "cell_type": "code",
   "execution_count": 13,
   "id": "31c2efd7",
   "metadata": {},
   "outputs": [],
   "source": [
    "# Get the sum of friends and count of entries by age\n",
    "# Sort the results by sum of friends from greatest to least\n",
    "totals_by_age = rdd.mapValues(lambda x: (x, 1)) \\\n",
    "            .reduceByKey(lambda x, y: (x[0] + y[0], x[1] + y[1])) \\\n",
    "            .sortBy(lambda x: x[1], ascending=False)"
   ]
  },
  {
   "cell_type": "code",
   "execution_count": 14,
   "id": "b9d7d962",
   "metadata": {},
   "outputs": [
    {
     "data": {
      "text/plain": [
       "[(26, (4115, 17)),\n",
       " (40, (4264, 17)),\n",
       " (67, (3434, 16)),\n",
       " (38, (2903, 15)),\n",
       " (54, (3615, 13))]"
      ]
     },
     "execution_count": 14,
     "metadata": {},
     "output_type": "execute_result"
    }
   ],
   "source": [
    "totals_by_age.take(5)"
   ]
  },
  {
   "cell_type": "code",
   "execution_count": null,
   "id": "dfee5964",
   "metadata": {},
   "outputs": [],
   "source": []
  }
 ],
 "metadata": {
  "kernelspec": {
   "display_name": "Python 3 (ipykernel)",
   "language": "python",
   "name": "python3"
  },
  "language_info": {
   "codemirror_mode": {
    "name": "ipython",
    "version": 3
   },
   "file_extension": ".py",
   "mimetype": "text/x-python",
   "name": "python",
   "nbconvert_exporter": "python",
   "pygments_lexer": "ipython3",
   "version": "3.10.5"
  }
 },
 "nbformat": 4,
 "nbformat_minor": 5
}
