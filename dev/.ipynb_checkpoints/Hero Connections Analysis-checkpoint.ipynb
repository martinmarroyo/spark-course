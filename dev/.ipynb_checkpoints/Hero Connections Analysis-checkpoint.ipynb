{
 "cells": [
  {
   "cell_type": "code",
   "execution_count": 55,
   "id": "fa07457b",
   "metadata": {},
   "outputs": [],
   "source": [
    "from pyspark.sql import SparkSession\n",
    "from pyspark.sql import functions as func"
   ]
  },
  {
   "cell_type": "code",
   "execution_count": 2,
   "id": "a45bf0f7",
   "metadata": {},
   "outputs": [],
   "source": [
    "spark = SparkSession \\\n",
    "        .builder \\\n",
    "        .appName(\"SuperheroAnalysis\") \\\n",
    "        .getOrCreate()\n",
    "sc = spark.sparkContext"
   ]
  },
  {
   "cell_type": "code",
   "execution_count": 103,
   "id": "4cb96fa1",
   "metadata": {},
   "outputs": [],
   "source": [
    "def get_heroname_lookup() -> dict:\n",
    "    with open(\n",
    "        r\"/home/jovyan/data/marvel-names.txt\",\"r\", \n",
    "        encoding=\"utf-8\", errors=\"surrogateescape\"\n",
    "    ) as heronames:\n",
    "        heroname_lookup = {}\n",
    "        for line in heronames:\n",
    "            fields = line.split(' ', 1)\n",
    "            hero_id = fields[0]\n",
    "            hero_name = fields[1].replace('\"','').strip()\n",
    "            heroname_lookup[hero_id] = hero_name\n",
    "        return heroname_lookup\n",
    "\n",
    "def heroname_map(hero_id:str) -> str:\n",
    "    return broadcast.value[hero_id]\n",
    "\n",
    "def process_hero_connections(line) -> tuple:\n",
    "    fields = line.split(\" \", 1)\n",
    "    hero_id = fields[0]\n",
    "    connections = len(line.split(\" \")) - 1\n",
    "    return (hero_id, connections)\n",
    "\n",
    "def identify_popular_heroes(rdd):\n",
    "    return rdd.map(process_hero_connections) \\\n",
    "            .reduceByKey(lambda x, y: x+y) \\\n",
    "            .map(lambda x: (x[0], heroname_map(x[0]), x[1])) \\\n",
    "            .sortBy(lambda x: x[2], ascending=False)\n",
    "\n",
    "def popular_heroes_df(connection_df):\n",
    "    return connection_df \\\n",
    "        .withColumn(\n",
    "            \"hero_id\", func.split(func.col(\"value\"), \" \")[0]\n",
    "        ) \\\n",
    "        .withColumn(\n",
    "            \"hero_name\", udf_heroname_lookup(func.col(\"hero_id\"))\n",
    "        ) \\\n",
    "        .withColumn (\n",
    "            \"connections\", func.size(func.split(func.col(\"value\"), \" \"))-1\n",
    "        ) \\\n",
    "        .groupBy([\"hero_id\", \"hero_name\"]) \\\n",
    "        .agg(func.sum(\"connections\").alias(\"connections\")) \\\n",
    "        .sort(func.col(\"connections\").desc())"
   ]
  },
  {
   "cell_type": "code",
   "execution_count": 104,
   "id": "15fe5deb",
   "metadata": {},
   "outputs": [],
   "source": [
    "broadcast = sc.broadcast(get_heroname_lookup())\n",
    "udf_heroname_lookup = func.udf(heroname_map)"
   ]
  },
  {
   "cell_type": "code",
   "execution_count": 105,
   "id": "30afedfd",
   "metadata": {},
   "outputs": [],
   "source": [
    "hero_graph = sc.textFile(\"file:///home/jovyan/data/marvel-graph.txt\")"
   ]
  },
  {
   "cell_type": "code",
   "execution_count": 106,
   "id": "3f3d6b3b",
   "metadata": {},
   "outputs": [],
   "source": [
    "top10_popularheroes = identify_popular_heroes(hero_graph).take(10)"
   ]
  },
  {
   "cell_type": "code",
   "execution_count": 107,
   "id": "43b1e1b0",
   "metadata": {},
   "outputs": [
    {
     "name": "stdout",
     "output_type": "stream",
     "text": [
      "hero_name \t # of connections\n",
      "CAPTAIN AMERICA \t 1937\n",
      "SPIDER-MAN/PETER PAR \t 1745\n",
      "IRON MAN/TONY STARK \t 1532\n",
      "THING/BENJAMIN J. GR \t 1429\n",
      "WOLVERINE/LOGAN \t 1397\n",
      "MR. FANTASTIC/REED R \t 1389\n",
      "HUMAN TORCH/JOHNNY S \t 1374\n",
      "SCARLET WITCH/WANDA \t 1348\n",
      "THOR/DR. DONALD BLAK \t 1292\n",
      "BEAST/HENRY &HANK& P \t 1283\n"
     ]
    }
   ],
   "source": [
    "print(f\"hero_name \\t # of connections\")\n",
    "for line in top10_popularheroes:\n",
    "    print(f\"{line[1]} \\t {line[2]}\")"
   ]
  },
  {
   "cell_type": "code",
   "execution_count": 89,
   "id": "40eed8da",
   "metadata": {},
   "outputs": [],
   "source": [
    "connections_df = spark.read.text(\"file:///home/jovyan/data/marvel-graph.txt\")"
   ]
  },
  {
   "cell_type": "code",
   "execution_count": 94,
   "id": "342c32df",
   "metadata": {},
   "outputs": [],
   "source": [
    "hero_connections = popular_heroes_df(connections_df)"
   ]
  },
  {
   "cell_type": "code",
   "execution_count": 97,
   "id": "95a905dd",
   "metadata": {},
   "outputs": [
    {
     "name": "stdout",
     "output_type": "stream",
     "text": [
      "+--------------------+-----------+\n",
      "|           hero_name|connections|\n",
      "+--------------------+-----------+\n",
      "|     CAPTAIN AMERICA|       1937|\n",
      "|SPIDER-MAN/PETER PAR|       1745|\n",
      "| IRON MAN/TONY STARK|       1532|\n",
      "|THING/BENJAMIN J. GR|       1429|\n",
      "|     WOLVERINE/LOGAN|       1397|\n",
      "|MR. FANTASTIC/REED R|       1389|\n",
      "|HUMAN TORCH/JOHNNY S|       1374|\n",
      "| SCARLET WITCH/WANDA|       1348|\n",
      "|THOR/DR. DONALD BLAK|       1292|\n",
      "|BEAST/HENRY &HANK& P|       1283|\n",
      "+--------------------+-----------+\n",
      "only showing top 10 rows\n",
      "\n"
     ]
    }
   ],
   "source": [
    "hero_connections.select(\"hero_name\",\"connections\").show(10)"
   ]
  },
  {
   "cell_type": "code",
   "execution_count": null,
   "id": "c4abd538",
   "metadata": {},
   "outputs": [],
   "source": []
  }
 ],
 "metadata": {
  "kernelspec": {
   "display_name": "Python 3 (ipykernel)",
   "language": "python",
   "name": "python3"
  },
  "language_info": {
   "codemirror_mode": {
    "name": "ipython",
    "version": 3
   },
   "file_extension": ".py",
   "mimetype": "text/x-python",
   "name": "python",
   "nbconvert_exporter": "python",
   "pygments_lexer": "ipython3",
   "version": "3.10.5"
  }
 },
 "nbformat": 4,
 "nbformat_minor": 5
}
