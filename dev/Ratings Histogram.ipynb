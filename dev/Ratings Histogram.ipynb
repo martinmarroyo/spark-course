{
 "cells": [
  {
   "cell_type": "code",
   "execution_count": 1,
   "id": "b0583f97",
   "metadata": {},
   "outputs": [],
   "source": [
    "from pyspark.sql import SparkSession\n",
    "import collections"
   ]
  },
  {
   "cell_type": "code",
   "execution_count": 2,
   "id": "ca7df635",
   "metadata": {},
   "outputs": [],
   "source": [
    "spark = SparkSession \\\n",
    "        .builder.appName(\"RatingsHistogram\") \\\n",
    "        .getOrCreate()"
   ]
  },
  {
   "cell_type": "code",
   "execution_count": 3,
   "id": "2c3fac1d",
   "metadata": {},
   "outputs": [],
   "source": [
    "sc = spark.sparkContext"
   ]
  },
  {
   "cell_type": "code",
   "execution_count": 4,
   "id": "8f403792",
   "metadata": {},
   "outputs": [],
   "source": [
    "lines = sc.textFile('file:///home/jovyan/data/ml-100k/u.data')"
   ]
  },
  {
   "cell_type": "code",
   "execution_count": 5,
   "id": "5fa4bec7",
   "metadata": {},
   "outputs": [
    {
     "name": "stdout",
     "output_type": "stream",
     "text": [
      "1\t6110\n",
      "2\t11370\n",
      "3\t27145\n",
      "4\t34174\n",
      "5\t21201\n"
     ]
    }
   ],
   "source": [
    "ratings = lines \\\n",
    "        .map(lambda x: x.split()[2]) \\\n",
    "        .countByValue()\n",
    "sorted_results = collections.OrderedDict(sorted(ratings.items()))\n",
    "for k,v in sorted_results.items():\n",
    "    print(f\"{k}\\t{v}\")"
   ]
  },
  {
   "cell_type": "code",
   "execution_count": null,
   "id": "4334f41d",
   "metadata": {},
   "outputs": [],
   "source": []
  }
 ],
 "metadata": {
  "kernelspec": {
   "display_name": "Python 3 (ipykernel)",
   "language": "python",
   "name": "python3"
  },
  "language_info": {
   "codemirror_mode": {
    "name": "ipython",
    "version": 3
   },
   "file_extension": ".py",
   "mimetype": "text/x-python",
   "name": "python",
   "nbconvert_exporter": "python",
   "pygments_lexer": "ipython3",
   "version": "3.10.5"
  }
 },
 "nbformat": 4,
 "nbformat_minor": 5
}
