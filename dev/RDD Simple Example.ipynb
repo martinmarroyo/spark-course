{
 "cells": [
  {
   "cell_type": "code",
   "execution_count": 3,
   "id": "c9fcd873",
   "metadata": {},
   "outputs": [],
   "source": [
    "from pyspark.sql import SparkSession"
   ]
  },
  {
   "cell_type": "code",
   "execution_count": 2,
   "id": "a8f50c93",
   "metadata": {},
   "outputs": [],
   "source": [
    "spark = SparkSession.builder.appName(\"Test\").getOrCreate()\n",
    "sc = spark.sparkContext"
   ]
  },
  {
   "cell_type": "code",
   "execution_count": 20,
   "id": "b1f8169d",
   "metadata": {},
   "outputs": [],
   "source": [
    "demo = sc.parallelize([1,2,3,4])\n",
    "mapped_result = demo.map(lambda x: x ** 2).collect()\n",
    "filtered_result = demo.map(lambda x: x ** 2) \\\n",
    "                .filter(lambda x: x % 2 == 0) \\\n",
    "                .collect()\n",
    "reduced_result = demo.map(lambda x: x ** 2) \\\n",
    "            .filter(lambda x: x % 2 == 0) \\\n",
    "            .reduce(lambda x, y: x+y)"
   ]
  },
  {
   "cell_type": "code",
   "execution_count": 21,
   "id": "a47d55e0",
   "metadata": {},
   "outputs": [
    {
     "data": {
      "text/plain": [
       "[1, 4, 9, 16]"
      ]
     },
     "execution_count": 21,
     "metadata": {},
     "output_type": "execute_result"
    }
   ],
   "source": [
    "mapped_result"
   ]
  },
  {
   "cell_type": "code",
   "execution_count": 22,
   "id": "e1431328",
   "metadata": {},
   "outputs": [
    {
     "data": {
      "text/plain": [
       "[4, 16]"
      ]
     },
     "execution_count": 22,
     "metadata": {},
     "output_type": "execute_result"
    }
   ],
   "source": [
    "filtered_result"
   ]
  },
  {
   "cell_type": "code",
   "execution_count": 23,
   "id": "9ae82f58",
   "metadata": {},
   "outputs": [
    {
     "data": {
      "text/plain": [
       "20"
      ]
     },
     "execution_count": 23,
     "metadata": {},
     "output_type": "execute_result"
    }
   ],
   "source": [
    "reduced_result"
   ]
  }
 ],
 "metadata": {
  "kernelspec": {
   "display_name": "Python 3 (ipykernel)",
   "language": "python",
   "name": "python3"
  },
  "language_info": {
   "codemirror_mode": {
    "name": "ipython",
    "version": 3
   },
   "file_extension": ".py",
   "mimetype": "text/x-python",
   "name": "python",
   "nbconvert_exporter": "python",
   "pygments_lexer": "ipython3",
   "version": "3.10.5"
  }
 },
 "nbformat": 4,
 "nbformat_minor": 5
}
